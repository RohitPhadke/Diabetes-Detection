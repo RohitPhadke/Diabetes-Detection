{
  "nbformat": 4,
  "nbformat_minor": 0,
  "metadata": {
    "colab": {
      "name": "Diabetes_Detection.ipynb",
      "provenance": []
    },
    "kernelspec": {
      "name": "python3",
      "display_name": "Python 3"
    }
  },
  "cells": [
    {
      "cell_type": "markdown",
      "metadata": {
        "id": "qq1gNI7SUBzn",
        "colab_type": "text"
      },
      "source": [
        "##Importing libraries to implement various machine learning algorithms"
      ]
    },
    {
      "cell_type": "code",
      "metadata": {
        "id": "922FFeygZey9",
        "colab_type": "code",
        "colab": {}
      },
      "source": [
        "import pandas as pd\n",
        "import numpy as np\n",
        "from sklearn.model_selection import train_test_split\n",
        "from sklearn.preprocessing import StandardScaler\n",
        "from sklearn.neighbors import KNeighborsClassifier\n",
        "from sklearn.ensemble import RandomForestClassifier\n",
        "from xgboost import XGBClassifier\n",
        "from numpy import loadtxt\n",
        "from sklearn.metrics import confusion_matrix\n",
        "from sklearn.metrics import accuracy_score"
      ],
      "execution_count": 0,
      "outputs": []
    },
    {
      "cell_type": "markdown",
      "metadata": {
        "id": "J_9CNgrFUN0g",
        "colab_type": "text"
      },
      "source": [
        "##Reading our dataset file i.e. the diabetes.csv files using the 'pd.read_csv' command"
      ]
    },
    {
      "cell_type": "code",
      "metadata": {
        "id": "a7i47k5WaVka",
        "colab_type": "code",
        "colab": {}
      },
      "source": [
        "data = pd.read_csv('/content/diabetes.csv')\n",
        "\n",
        "# Link to the diabetes dataset - https://www.kaggle.com/johndasilva/diabetes"
      ],
      "execution_count": 0,
      "outputs": []
    },
    {
      "cell_type": "markdown",
      "metadata": {
        "id": "bVYdfXSNUbxU",
        "colab_type": "text"
      },
      "source": [
        "##The len command is used to find the length of the dataset i.e. the number of rows in our dataset."
      ]
    },
    {
      "cell_type": "code",
      "metadata": {
        "id": "V8LSkY-Salxn",
        "colab_type": "code",
        "outputId": "15b4305d-ce64-4809-8b8e-2cd3fcf3c697",
        "colab": {
          "base_uri": "https://localhost:8080/",
          "height": 35
        }
      },
      "source": [
        "len(data)"
      ],
      "execution_count": 67,
      "outputs": [
        {
          "output_type": "execute_result",
          "data": {
            "text/plain": [
              "768"
            ]
          },
          "metadata": {
            "tags": []
          },
          "execution_count": 67
        }
      ]
    },
    {
      "cell_type": "markdown",
      "metadata": {
        "id": "tgkqHu73UnpL",
        "colab_type": "text"
      },
      "source": [
        "##The \".head()\" command is used to check the first 5 rows in our dataset with all the columns included. We can specify the number of rows in the brackets, but the default value is 5."
      ]
    },
    {
      "cell_type": "code",
      "metadata": {
        "id": "7Mz3k8Mbasfk",
        "colab_type": "code",
        "outputId": "9865f0c5-68f1-4e46-87dc-691b89406096",
        "colab": {
          "base_uri": "https://localhost:8080/",
          "height": 194
        }
      },
      "source": [
        "data.head()"
      ],
      "execution_count": 68,
      "outputs": [
        {
          "output_type": "execute_result",
          "data": {
            "text/html": [
              "<div>\n",
              "<style scoped>\n",
              "    .dataframe tbody tr th:only-of-type {\n",
              "        vertical-align: middle;\n",
              "    }\n",
              "\n",
              "    .dataframe tbody tr th {\n",
              "        vertical-align: top;\n",
              "    }\n",
              "\n",
              "    .dataframe thead th {\n",
              "        text-align: right;\n",
              "    }\n",
              "</style>\n",
              "<table border=\"1\" class=\"dataframe\">\n",
              "  <thead>\n",
              "    <tr style=\"text-align: right;\">\n",
              "      <th></th>\n",
              "      <th>Pregnancies</th>\n",
              "      <th>Glucose</th>\n",
              "      <th>BloodPressure</th>\n",
              "      <th>SkinThickness</th>\n",
              "      <th>Insulin</th>\n",
              "      <th>BMI</th>\n",
              "      <th>DiabetesPedigreeFunction</th>\n",
              "      <th>Age</th>\n",
              "      <th>Outcome</th>\n",
              "    </tr>\n",
              "  </thead>\n",
              "  <tbody>\n",
              "    <tr>\n",
              "      <th>0</th>\n",
              "      <td>6</td>\n",
              "      <td>148</td>\n",
              "      <td>72</td>\n",
              "      <td>35</td>\n",
              "      <td>0</td>\n",
              "      <td>33.6</td>\n",
              "      <td>0.627</td>\n",
              "      <td>50</td>\n",
              "      <td>1</td>\n",
              "    </tr>\n",
              "    <tr>\n",
              "      <th>1</th>\n",
              "      <td>1</td>\n",
              "      <td>85</td>\n",
              "      <td>66</td>\n",
              "      <td>29</td>\n",
              "      <td>0</td>\n",
              "      <td>26.6</td>\n",
              "      <td>0.351</td>\n",
              "      <td>31</td>\n",
              "      <td>0</td>\n",
              "    </tr>\n",
              "    <tr>\n",
              "      <th>2</th>\n",
              "      <td>8</td>\n",
              "      <td>183</td>\n",
              "      <td>64</td>\n",
              "      <td>0</td>\n",
              "      <td>0</td>\n",
              "      <td>23.3</td>\n",
              "      <td>0.672</td>\n",
              "      <td>32</td>\n",
              "      <td>1</td>\n",
              "    </tr>\n",
              "    <tr>\n",
              "      <th>3</th>\n",
              "      <td>1</td>\n",
              "      <td>89</td>\n",
              "      <td>66</td>\n",
              "      <td>23</td>\n",
              "      <td>94</td>\n",
              "      <td>28.1</td>\n",
              "      <td>0.167</td>\n",
              "      <td>21</td>\n",
              "      <td>0</td>\n",
              "    </tr>\n",
              "    <tr>\n",
              "      <th>4</th>\n",
              "      <td>0</td>\n",
              "      <td>137</td>\n",
              "      <td>40</td>\n",
              "      <td>35</td>\n",
              "      <td>168</td>\n",
              "      <td>43.1</td>\n",
              "      <td>2.288</td>\n",
              "      <td>33</td>\n",
              "      <td>1</td>\n",
              "    </tr>\n",
              "  </tbody>\n",
              "</table>\n",
              "</div>"
            ],
            "text/plain": [
              "   Pregnancies  Glucose  BloodPressure  ...  DiabetesPedigreeFunction  Age  Outcome\n",
              "0            6      148             72  ...                     0.627   50        1\n",
              "1            1       85             66  ...                     0.351   31        0\n",
              "2            8      183             64  ...                     0.672   32        1\n",
              "3            1       89             66  ...                     0.167   21        0\n",
              "4            0      137             40  ...                     2.288   33        1\n",
              "\n",
              "[5 rows x 9 columns]"
            ]
          },
          "metadata": {
            "tags": []
          },
          "execution_count": 68
        }
      ]
    },
    {
      "cell_type": "code",
      "metadata": {
        "id": "Lz7OKvqJa2HY",
        "colab_type": "code",
        "colab": {}
      },
      "source": [
        "zero_not_accepted = ['Glucose', 'BloodPressure', 'SkinThickness', 'BMI', 'Insulin']\n",
        "for column in zero_not_accepted:\n",
        "     data[column] = data[column].replace(0,np.NaN)\n",
        "     mean = int(data[column].mean(skipna=True))\n",
        "     data[column] = data[column].replace(np.NaN,mean)"
      ],
      "execution_count": 0,
      "outputs": []
    },
    {
      "cell_type": "markdown",
      "metadata": {
        "id": "MI-f5mndWJG_",
        "colab_type": "text"
      },
      "source": [
        "##Initializing the training and the target columns"
      ]
    },
    {
      "cell_type": "code",
      "metadata": {
        "id": "7uNwz9q7bce8",
        "colab_type": "code",
        "colab": {}
      },
      "source": [
        "X = data.iloc[:,:8]\n",
        "y = data.iloc[:,8]\n",
        "X_train,X_test,y_train,y_test = train_test_split(X,y,test_size = .2, random_state = 0) \n",
        "#The train_test_split function to split our training and testing data into 80% for training and 20% for testing"
      ],
      "execution_count": 0,
      "outputs": []
    },
    {
      "cell_type": "markdown",
      "metadata": {
        "id": "hyHoPFHXWJiN",
        "colab_type": "text"
      },
      "source": [
        "##For implementing the KNN algorithm we need to perform feature scaling"
      ]
    },
    {
      "cell_type": "code",
      "metadata": {
        "id": "Lyk5KnQab7xs",
        "colab_type": "code",
        "colab": {}
      },
      "source": [
        "sc_X = StandardScaler()\n",
        "X_train1 = sc_X.fit_transform(X_train)\n",
        "X_test1 = sc_X.transform(X_test)"
      ],
      "execution_count": 0,
      "outputs": []
    },
    {
      "cell_type": "markdown",
      "metadata": {
        "id": "eHXwpS--WX5j",
        "colab_type": "text"
      },
      "source": [
        "##Let's find the number of neighbors to initialize the KNN algorithm"
      ]
    },
    {
      "cell_type": "code",
      "metadata": {
        "id": "zUO9JWzvclLC",
        "colab_type": "code",
        "outputId": "e2d382d2-851c-42b1-cd82-69f349a810ef",
        "colab": {
          "base_uri": "https://localhost:8080/",
          "height": 35
        }
      },
      "source": [
        "import math\n",
        "math.sqrt(len(y_test))\n"
      ],
      "execution_count": 72,
      "outputs": [
        {
          "output_type": "execute_result",
          "data": {
            "text/plain": [
              "12.409673645990857"
            ]
          },
          "metadata": {
            "tags": []
          },
          "execution_count": 72
        }
      ]
    },
    {
      "cell_type": "markdown",
      "metadata": {
        "id": "lQJKlwmaXDyh",
        "colab_type": "text"
      },
      "source": [
        "## Creating a KNN object called clf and training the model using the fit function"
      ]
    },
    {
      "cell_type": "code",
      "metadata": {
        "id": "8n5PdCO1coXA",
        "colab_type": "code",
        "outputId": "0f8b5845-ba4b-41be-8257-3401ba3686b5",
        "colab": {
          "base_uri": "https://localhost:8080/",
          "height": 70
        }
      },
      "source": [
        "clf = KNeighborsClassifier(n_neighbors = 12, p = 2, metric = 'euclidean')\n",
        "clf.fit(X_train1,y_train)"
      ],
      "execution_count": 73,
      "outputs": [
        {
          "output_type": "execute_result",
          "data": {
            "text/plain": [
              "KNeighborsClassifier(algorithm='auto', leaf_size=30, metric='euclidean',\n",
              "                     metric_params=None, n_jobs=None, n_neighbors=12, p=2,\n",
              "                     weights='uniform')"
            ]
          },
          "metadata": {
            "tags": []
          },
          "execution_count": 73
        }
      ]
    },
    {
      "cell_type": "markdown",
      "metadata": {
        "id": "o7dR5QztXchq",
        "colab_type": "text"
      },
      "source": [
        "#Using the \".predict\" function on our testing dataset to predict the output"
      ]
    },
    {
      "cell_type": "code",
      "metadata": {
        "id": "cVWHTbrXdO6k",
        "colab_type": "code",
        "colab": {}
      },
      "source": [
        "y_pred = clf.predict(X_test1)"
      ],
      "execution_count": 0,
      "outputs": []
    },
    {
      "cell_type": "code",
      "metadata": {
        "id": "-vWT9TIhdtcV",
        "colab_type": "code",
        "outputId": "113861ac-c11f-4a55-82f0-c76e60168a66",
        "colab": {
          "base_uri": "https://localhost:8080/",
          "height": 141
        }
      },
      "source": [
        "y_pred # Displaying the output array"
      ],
      "execution_count": 75,
      "outputs": [
        {
          "output_type": "execute_result",
          "data": {
            "text/plain": [
              "array([1, 0, 0, 1, 0, 0, 1, 1, 0, 0, 0, 1, 0, 0, 0, 0, 1, 0, 0, 0, 0, 0,\n",
              "       0, 0, 0, 0, 0, 1, 0, 0, 1, 0, 0, 1, 0, 1, 0, 0, 0, 1, 0, 0, 0, 1,\n",
              "       1, 0, 0, 0, 0, 0, 1, 0, 1, 0, 0, 0, 0, 1, 0, 1, 1, 0, 0, 0, 1, 1,\n",
              "       1, 0, 0, 0, 0, 0, 0, 1, 1, 0, 0, 1, 0, 0, 0, 0, 0, 0, 0, 0, 0, 0,\n",
              "       1, 0, 0, 0, 0, 0, 1, 0, 0, 0, 1, 0, 0, 0, 0, 0, 1, 1, 0, 0, 0, 1,\n",
              "       0, 0, 1, 1, 0, 1, 0, 0, 0, 1, 0, 0, 0, 0, 0, 0, 0, 0, 0, 0, 0, 0,\n",
              "       0, 0, 0, 0, 0, 0, 0, 0, 0, 1, 0, 0, 1, 0, 0, 0, 0, 0, 0, 0, 0, 0])"
            ]
          },
          "metadata": {
            "tags": []
          },
          "execution_count": 75
        }
      ]
    },
    {
      "cell_type": "markdown",
      "metadata": {
        "id": "EHcxEVdXXvgd",
        "colab_type": "text"
      },
      "source": [
        "## Confusion matrix is used to represent the True and the False values."
      ]
    },
    {
      "cell_type": "code",
      "metadata": {
        "id": "To60YNWYeYUN",
        "colab_type": "code",
        "outputId": "2a0bae5a-21e5-4b82-daef-8d434ee12b87",
        "colab": {
          "base_uri": "https://localhost:8080/",
          "height": 52
        }
      },
      "source": [
        "cm = confusion_matrix(y_test,y_pred)\n",
        "cm"
      ],
      "execution_count": 76,
      "outputs": [
        {
          "output_type": "execute_result",
          "data": {
            "text/plain": [
              "array([[97, 10],\n",
              "       [21, 26]])"
            ]
          },
          "metadata": {
            "tags": []
          },
          "execution_count": 76
        }
      ]
    },
    {
      "cell_type": "markdown",
      "metadata": {
        "id": "Q-QvlqAtYG3z",
        "colab_type": "text"
      },
      "source": [
        "## The \"accuracy_score\" function shows the prediction accuracy of our KNN model."
      ]
    },
    {
      "cell_type": "code",
      "metadata": {
        "id": "DrCbG7p8eoWb",
        "colab_type": "code",
        "outputId": "051b7b73-e468-44b8-8f2d-276ea70859e8",
        "colab": {
          "base_uri": "https://localhost:8080/",
          "height": 35
        }
      },
      "source": [
        "accuracy = accuracy_score(y_test,y_pred)\n",
        "print(\"Accuracy: %.2f%%\" % (accuracy * 100.0))"
      ],
      "execution_count": 77,
      "outputs": [
        {
          "output_type": "stream",
          "text": [
            "Accuracy: 79.87%\n"
          ],
          "name": "stdout"
        }
      ]
    },
    {
      "cell_type": "markdown",
      "metadata": {
        "id": "BUHjPFRnR4EI",
        "colab_type": "text"
      },
      "source": [
        "#### Creating a Random Forest Classifier object called Rclf and training the model using the fit function"
      ]
    },
    {
      "cell_type": "code",
      "metadata": {
        "id": "gVgGk1roR_Rp",
        "colab_type": "code",
        "colab": {}
      },
      "source": [
        "#Create a Random Forest Classifier\n",
        "clf=RandomForestClassifier(n_estimators=100)\n",
        "\n",
        "#Train the model using the training data\n",
        "clf.fit(X_train,y_train)\n",
        "\n",
        "#Predict output for the test\n",
        "y_pred=clf.predict(X_test)"
      ],
      "execution_count": 0,
      "outputs": []
    },
    {
      "cell_type": "markdown",
      "metadata": {
        "id": "1xU5ckh2TduA",
        "colab_type": "text"
      },
      "source": [
        "##We will evaluate the model by finding the accuracy of the Random Forest Model"
      ]
    },
    {
      "cell_type": "code",
      "metadata": {
        "id": "McWC5mQfSZbw",
        "colab_type": "code",
        "colab": {
          "base_uri": "https://localhost:8080/",
          "height": 35
        },
        "outputId": "fbae0461-7904-43b0-b5c0-6ff237a81d13"
      },
      "source": [
        "# Model Accuracy, how often is the classifier correct?\n",
        "accuracy = accuracy_score(y_test, predictions)\n",
        "print(\"Accuracy: %.2f%%\" % (accuracy * 100.0))"
      ],
      "execution_count": 79,
      "outputs": [
        {
          "output_type": "stream",
          "text": [
            "Accuracy: 81.17%\n"
          ],
          "name": "stdout"
        }
      ]
    },
    {
      "cell_type": "markdown",
      "metadata": {
        "id": "Ep5HfyAvTrhB",
        "colab_type": "text"
      },
      "source": [
        "##Let's try using the XGBoost algorithm to predict the diabetes in a patient"
      ]
    },
    {
      "cell_type": "code",
      "metadata": {
        "id": "RvtXX3n-T4YJ",
        "colab_type": "code",
        "colab": {
          "base_uri": "https://localhost:8080/",
          "height": 141
        },
        "outputId": "3aef7156-e9fe-4bd0-e1ab-b2ba7383c35f"
      },
      "source": [
        "model = XGBClassifier()\n",
        "model.fit(X_train, y_train)"
      ],
      "execution_count": 80,
      "outputs": [
        {
          "output_type": "execute_result",
          "data": {
            "text/plain": [
              "XGBClassifier(base_score=0.5, booster='gbtree', colsample_bylevel=1,\n",
              "              colsample_bynode=1, colsample_bytree=1, gamma=0,\n",
              "              learning_rate=0.1, max_delta_step=0, max_depth=3,\n",
              "              min_child_weight=1, missing=None, n_estimators=100, n_jobs=1,\n",
              "              nthread=None, objective='binary:logistic', random_state=0,\n",
              "              reg_alpha=0, reg_lambda=1, scale_pos_weight=1, seed=None,\n",
              "              silent=None, subsample=1, verbosity=1)"
            ]
          },
          "metadata": {
            "tags": []
          },
          "execution_count": 80
        }
      ]
    },
    {
      "cell_type": "markdown",
      "metadata": {
        "id": "6ie3QNv8UH58",
        "colab_type": "text"
      },
      "source": [
        "##Let's test the XGBoost model to predict the diabetes and finally find the accuracy"
      ]
    },
    {
      "cell_type": "code",
      "metadata": {
        "id": "HucerPJDUHDX",
        "colab_type": "code",
        "colab": {
          "base_uri": "https://localhost:8080/",
          "height": 35
        },
        "outputId": "a1b553d0-f958-41ec-8ae7-5f49fb083954"
      },
      "source": [
        "# make predictions for test data\n",
        "y_pred = model.predict(X_test)\n",
        "predictions = [round(value) for value in y_pred]\n",
        "# evaluate predictions\n",
        "accuracy = accuracy_score(y_test, predictions)\n",
        "print(\"Accuracy: %.2f%%\" % (accuracy * 100.0))"
      ],
      "execution_count": 81,
      "outputs": [
        {
          "output_type": "stream",
          "text": [
            "Accuracy: 81.17%\n"
          ],
          "name": "stdout"
        }
      ]
    },
    {
      "cell_type": "markdown",
      "metadata": {
        "id": "makGo-bIVHoW",
        "colab_type": "text"
      },
      "source": [
        "##**Observations**: We implemented 3 machine learning algorithms i.e KNearest Neighbors, Random Forest and XGBoost to predict diabetes in a patient. We achieved highest accuracy using XGBoost and Random Forest algorithms. Thus we can use any of the model between them to predict diabetes."
      ]
    }
  ]
}